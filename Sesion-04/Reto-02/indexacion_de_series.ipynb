{
  "cells": [
    {
      "cell_type": "markdown",
      "metadata": {
        "id": "IOU53HBNZLNJ"
      },
      "source": [
        "## Reto 2: Indexación de Series\n",
        "\n",
        "### 1. Objetivos:\n",
        "    - Practicar técnicas avanzadas de indexación de `Series`\n",
        "\n",
        "---\n",
        "    \n",
        "### 2. Desarrollo:"
      ]
    },
    {
      "cell_type": "markdown",
      "metadata": {
        "id": "bv5iax_RZLNN"
      },
      "source": [
        "#### a) Indexación de `Series`\n",
        "\n",
        "Tenemos una `Serie` que contiene los gastos mensuales totales (en MXN) de distintas divisiones de EyePoker Inc. Tú eres el Contador Oficial y tienes que obtener subconjuntos de datos que sirvan para agregar los gastos totales de diferentes combinaciones de divisiones.\n",
        "\n",
        "Los datos son los siguientes:"
      ]
    },
    {
      "cell_type": "code",
      "execution_count": 17,
      "metadata": {
        "id": "4OEFxPLRZLNN"
      },
      "outputs": [],
      "source": [
        "import pandas as pd\n",
        "\n",
        "gastos_mensuales = {\n",
        "    'A': 15000,\n",
        "    'B': 200000,\n",
        "    'C': 3250000,\n",
        "    'D': 120000,\n",
        "    'E': 135000,\n",
        "    'F': 55000,\n",
        "    'G': 100000,\n",
        "    'H': 25000\n",
        "}\n",
        "\n",
        "gastos_serie = pd.Series(gastos_mensuales)"
      ]
    },
    {
      "cell_type": "code",
      "execution_count": 18,
      "metadata": {
        "id": "3aciC4SMZLNO",
        "outputId": "2d653aba-9423-47e4-97fa-41edb2886ef5",
        "colab": {
          "base_uri": "https://localhost:8080/",
          "height": 335
        }
      },
      "outputs": [
        {
          "output_type": "execute_result",
          "data": {
            "text/plain": [
              "A      15000\n",
              "B     200000\n",
              "C    3250000\n",
              "D     120000\n",
              "E     135000\n",
              "F      55000\n",
              "G     100000\n",
              "H      25000\n",
              "dtype: int64"
            ],
            "text/html": [
              "<div>\n",
              "<style scoped>\n",
              "    .dataframe tbody tr th:only-of-type {\n",
              "        vertical-align: middle;\n",
              "    }\n",
              "\n",
              "    .dataframe tbody tr th {\n",
              "        vertical-align: top;\n",
              "    }\n",
              "\n",
              "    .dataframe thead th {\n",
              "        text-align: right;\n",
              "    }\n",
              "</style>\n",
              "<table border=\"1\" class=\"dataframe\">\n",
              "  <thead>\n",
              "    <tr style=\"text-align: right;\">\n",
              "      <th></th>\n",
              "      <th>0</th>\n",
              "    </tr>\n",
              "  </thead>\n",
              "  <tbody>\n",
              "    <tr>\n",
              "      <th>A</th>\n",
              "      <td>15000</td>\n",
              "    </tr>\n",
              "    <tr>\n",
              "      <th>B</th>\n",
              "      <td>200000</td>\n",
              "    </tr>\n",
              "    <tr>\n",
              "      <th>C</th>\n",
              "      <td>3250000</td>\n",
              "    </tr>\n",
              "    <tr>\n",
              "      <th>D</th>\n",
              "      <td>120000</td>\n",
              "    </tr>\n",
              "    <tr>\n",
              "      <th>E</th>\n",
              "      <td>135000</td>\n",
              "    </tr>\n",
              "    <tr>\n",
              "      <th>F</th>\n",
              "      <td>55000</td>\n",
              "    </tr>\n",
              "    <tr>\n",
              "      <th>G</th>\n",
              "      <td>100000</td>\n",
              "    </tr>\n",
              "    <tr>\n",
              "      <th>H</th>\n",
              "      <td>25000</td>\n",
              "    </tr>\n",
              "  </tbody>\n",
              "</table>\n",
              "</div><br><label><b>dtype:</b> int64</label>"
            ]
          },
          "metadata": {},
          "execution_count": 18
        }
      ],
      "source": [
        "gastos_serie"
      ]
    },
    {
      "cell_type": "markdown",
      "metadata": {
        "id": "6pl8KPTDZLNP"
      },
      "source": [
        "El índice es el nombre de la división y los valores son los gastos mensuales en MXN.\n",
        "\n",
        "Indexando la serie `gastos_serie` extrae las combinaciones de divisiones que se indican debajo para poder hacer los cálculos necesarios. El primero es un ejemplo:"
      ]
    },
    {
      "cell_type": "code",
      "execution_count": 19,
      "metadata": {
        "id": "W0JpAa_JZLNP"
      },
      "outputs": [],
      "source": [
        "# Los gastos de la división 'D' y 'G'\n",
        "gastos_D_G = gastos_serie[['D', 'G' ]]\n",
        "\n",
        "# Los gastos de la división 'A' y 'E'\n",
        "gastos_A_E = gastos_serie[['A' , 'E' ]]\n",
        "\n",
        "# Los gastos de la división 'B', 'F' y 'H'\n",
        "gastos_B_F_H = gastos_serie[['B', 'F', 'H']]\n",
        "\n",
        "# Los gastos desde la primera división hasta la división 'E'\n",
        "gastos_principio_a_E = gastos_serie[: 'E']\n",
        "\n",
        "# Los gastos desde la división 'D' hasta la 'G'\n",
        "gastos_D_a_G = gastos_serie['D': 'G']\n",
        "\n",
        "# Los gastos desde la división 'C' hasta el la última división\n",
        "gastos_C_a_final = gastos_serie['C' :]"
      ]
    },
    {
      "cell_type": "markdown",
      "metadata": {
        "id": "A7YpMCzFZLNP"
      },
      "source": [
        "Pídele a tu experta la función de verificación `revisar_indexaciones` (encontrada en el archivo `helpers.py` de la carpeta donde se encuentra este Reto), pégala debajo y corre la celda para verificar tu resultado:"
      ]
    },
    {
      "cell_type": "code",
      "execution_count": 22,
      "metadata": {
        "id": "6RXl3fmaZLNP",
        "outputId": "add880f2-91ef-44fc-a849-8382504306ff",
        "colab": {
          "base_uri": "https://localhost:8080/"
        }
      },
      "outputs": [
        {
          "output_type": "stream",
          "name": "stdout",
          "text": [
            " == Revision de Indexaciones == \n",
            "\n",
            "Indexación                     | Resultado       | Suma esperada   | Suma recibida  \n",
            "-------------------------------------------------------------------------------------\n",
            "Division D y G                 | Correcta        | $220000 MXN     | $220000 MXN    \n",
            "Division A y E                 | Correcta        | $150000 MXN     | $150000 MXN    \n",
            "Division B, F y H              | Correcta        | $280000 MXN     | $280000 MXN    \n",
            "Desde primera Division a E     | Correcta        | $3720000 MXN    | $3720000 MXN   \n",
            "Division D y G                 | Correcta        | $410000 MXN     | $410000 MXN    \n",
            "Division C a ultima Division   | Correcta        | $3685000 MXN    | $3685000 MXN   \n"
          ]
        }
      ],
      "source": [
        "\n",
        "# Pega aquí la función de verificación\n",
        "def revisar_indexaciones(gastos_serie, gastos_D_G, gastos_A_E, gastos_B_F_H, gastos_principio_a_E, gastos_D_a_G, gastos_C_a_final):\n",
        "\n",
        "  print(f' == Revision de Indexaciones == \\n')\n",
        "  print(f\"{'Indexación':30} | {'Resultado' :15} | {'Suma esperada ':15} | {'Suma recibida ':15}\")\n",
        "  print(\"-\"*85)\n",
        "  revisar_indexacion(gastos_serie.loc[['D', 'G']], gastos_D_G, 'Division D y G' )\n",
        "  revisar_indexacion(gastos_serie.loc[['A', 'E']], gastos_A_E, 'Division A y E' )\n",
        "  revisar_indexacion(gastos_serie.loc[['B', 'F', 'H']], gastos_B_F_H, 'Division B, F y H')\n",
        "  revisar_indexacion(gastos_serie.loc[:'E'], gastos_principio_a_E, 'Desde primera Division a E')\n",
        "  revisar_indexacion(gastos_serie.loc['D': 'G'], gastos_D_a_G, 'Division D y G')\n",
        "  revisar_indexacion(gastos_serie.loc['C':], gastos_C_a_final, 'Division C a ultima Division')\n",
        "def formatear_precio(precio):\n",
        "  return f\"${precio} MXN\"\n",
        "\n",
        "def revisar_indexacion(esperada, recibida, nombre):\n",
        "  es_correcta = 'Correcta' if esperada.equals(recibida) else 'Incorrecta'\n",
        "  suma_esperada = formatear_precio(sum(esperada))\n",
        "  suma_recibida = formatear_precio(sum(recibida))\n",
        "  # Removing the leading space in the format specifiers\n",
        "  print(f\"{nombre:30} | {es_correcta:15} | {suma_esperada:15} | {suma_recibida:15}\") # Changed here\n",
        "\n",
        "revisar_indexaciones(gastos_serie, gastos_D_G, gastos_A_E, gastos_B_F_H,\n",
        "gastos_principio_a_E, gastos_D_a_G, gastos_C_a_final)"
      ]
    },
    {
      "cell_type": "markdown",
      "metadata": {
        "id": "S19LEVXhZLNQ"
      },
      "source": [
        "<details><summary>Solución</summary>\n",
        "\n",
        "```python\n",
        "# Los gastos de la división 'D' y 'G'\n",
        "gastos_D_G = gastos_serie.loc[['D', 'G']]\n",
        "\n",
        "# Los gastos de la división 'A' y 'E'\n",
        "gastos_A_E = gastos_serie.loc[['A', 'E']]\n",
        "\n",
        "# Los gastos de la división 'B', 'F' y 'H'\n",
        "gastos_B_F_H = gastos_serie.loc[['B', 'F', 'H']]\n",
        "\n",
        "# Los gastos desde la primera división hasta la división 'E'\n",
        "gastos_principio_a_E = gastos_serie.loc[:'E']\n",
        "\n",
        "# Los gastos desde la división 'D' hasta la 'G'\n",
        "gastos_D_a_G = gastos_serie.loc['D':'G']\n",
        "\n",
        "# Los gastos desde la división 'C' hasta el la última división\n",
        "gastos_C_a_final = gastos_serie.loc['C':]\n",
        "```\n",
        "    \n",
        "</details>"
      ]
    }
  ],
  "metadata": {
    "kernelspec": {
      "display_name": "Python (data_science)",
      "language": "python",
      "name": "data_science"
    },
    "language_info": {
      "codemirror_mode": {
        "name": "ipython",
        "version": 3
      },
      "file_extension": ".py",
      "mimetype": "text/x-python",
      "name": "python",
      "nbconvert_exporter": "python",
      "pygments_lexer": "ipython3",
      "version": "3.8.5"
    },
    "colab": {
      "provenance": []
    }
  },
  "nbformat": 4,
  "nbformat_minor": 0
}